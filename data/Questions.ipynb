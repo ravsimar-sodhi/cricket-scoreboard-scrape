{
 "cells": [
  {
   "cell_type": "markdown",
   "metadata": {},
   "source": [
    "# Questions\n",
    "## What type of questions could be formed?\n",
    "\n",
    "## How many RUNS/much SCORE did PLAYER SCORE/MAKE?\n",
    "\n",
    "RUNS - could be score,\n",
    "PLAYER - Recognize that this belongs to a table, and that row should be selected\n",
    "PLAYER will be batsman in this case\n",
    "How many OVERS/BALLS did PLAYER BOWL/PLAY?\n",
    "\n",
    "#### OVERS/BALLS - Recognize which column is needed from the table\n",
    "#### PLAYER - Recognize from all the rows in the table\n",
    "#### Player can be batsman/bowler How many WICKETS did PLAYER take?\n",
    "#### WICKETS - recognize column\n",
    "#### PLAYER - recognize row\n",
    "#### How did PLAYER get out?\n",
    "\n",
    "#### PLAYER - Recognize row\n",
    "#### take the FOW columns and check conditions (bowled out, caught out, or not out)\n",
    "#### What was PLAYER's RUN RATE/STRIKE RATE/ 4s/ 6s/?\n",
    "\n",
    "#### PLAYER - recognize row\n",
    "#### Find which column is suitable for query"
   ]
  },
  {
   "cell_type": "code",
   "execution_count": null,
   "metadata": {},
   "outputs": [],
   "source": []
  }
 ],
 "metadata": {
  "kernelspec": {
   "display_name": "Python 3",
   "language": "python",
   "name": "python3"
  },
  "language_info": {
   "codemirror_mode": {
    "name": "ipython",
    "version": 3
   },
   "file_extension": ".py",
   "mimetype": "text/x-python",
   "name": "python",
   "nbconvert_exporter": "python",
   "pygments_lexer": "ipython3",
   "version": "3.6.6"
  }
 },
 "nbformat": 4,
 "nbformat_minor": 2
}
