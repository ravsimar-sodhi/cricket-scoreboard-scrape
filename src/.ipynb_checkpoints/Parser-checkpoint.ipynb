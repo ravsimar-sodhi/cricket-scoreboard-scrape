{
 "cells": [
  {
   "cell_type": "code",
   "execution_count": 1,
   "metadata": {},
   "outputs": [],
   "source": [
    "import nltk\n",
    "from nltk.tokenize import word_tokenize\n",
    "from nltk.tag import pos_tag"
   ]
  },
  {
   "cell_type": "code",
   "execution_count": 2,
   "metadata": {},
   "outputs": [],
   "source": [
    "# parser = CoreNLPParser(url='http://localhost:8888', tagtype='pos')"
   ]
  },
  {
   "cell_type": "code",
   "execution_count": 3,
   "metadata": {},
   "outputs": [],
   "source": [
    "sent = \"Where was the match between sunrisers hyd and rajasthan royals held on 9/4/2018?\""
   ]
  },
  {
   "cell_type": "code",
   "execution_count": 4,
   "metadata": {},
   "outputs": [],
   "source": [
    "def preprocess(sent):\n",
    "    sent = nltk.word_tokenize(sent)\n",
    "    sent = nltk.pos_tag(sent)\n",
    "    return sent"
   ]
  },
  {
   "cell_type": "code",
   "execution_count": 5,
   "metadata": {},
   "outputs": [],
   "source": [
    "sent = preprocess(sent)"
   ]
  },
  {
   "cell_type": "code",
   "execution_count": 6,
   "metadata": {},
   "outputs": [
    {
     "name": "stdout",
     "output_type": "stream",
     "text": [
      "[('Where', 'WRB'), ('was', 'VBD'), ('the', 'DT'), ('match', 'NN'), ('between', 'IN'), ('sunrisers', 'NNS'), ('hyd', 'NNS'), ('and', 'CC'), ('rajasthan', 'JJ'), ('royals', 'NNS'), ('held', 'VBD'), ('on', 'IN'), ('9/4/2018', 'CD'), ('?', '.')]\n"
     ]
    }
   ],
   "source": [
    "# list(parser.tag(sent.split()))\n",
    "print(sent)\n",
    "pattern = 'NP: {<JJ>*<NN>*<NNS>*<NNP>*<NNPS>*}'"
   ]
  },
  {
   "cell_type": "code",
   "execution_count": 7,
   "metadata": {},
   "outputs": [
    {
     "name": "stdout",
     "output_type": "stream",
     "text": [
      "(S\n",
      "  Where/WRB\n",
      "  was/VBD\n",
      "  the/DT\n",
      "  (NP match/NN)\n",
      "  between/IN\n",
      "  (NP sunrisers/NNS hyd/NNS)\n",
      "  and/CC\n",
      "  (NP rajasthan/JJ royals/NNS)\n",
      "  held/VBD\n",
      "  on/IN\n",
      "  9/4/2018/CD\n",
      "  ?/.)\n"
     ]
    }
   ],
   "source": [
    "cp = nltk.RegexpParser(pattern)\n",
    "tree = cp.parse(sent)\n",
    "print(tree)"
   ]
  },
  {
   "cell_type": "code",
   "execution_count": 8,
   "metadata": {},
   "outputs": [
    {
     "name": "stdout",
     "output_type": "stream",
     "text": [
      "hyd\n"
     ]
    }
   ],
   "source": [
    "print(tree[5][1][0])"
   ]
  },
  {
   "cell_type": "code",
   "execution_count": 10,
   "metadata": {},
   "outputs": [
    {
     "name": "stdout",
     "output_type": "stream",
     "text": [
      "(NP match/NN)\n",
      "(NP sunrisers/NNS hyd/NNS)\n",
      "(NP rajasthan/JJ royals/NNS)\n"
     ]
    }
   ],
   "source": [
    "def ExtractPhrases(tree, phrase):\n",
    "    myPhrases = []\n",
    "    if (tree.label() == phrase):\n",
    "        myPhrases.append( tree.copy(True))\n",
    "    for child in tree:\n",
    "        if (type(child) is nltk.tree.Tree):\n",
    "            list_of_phrases = ExtractPhrases(child, phrase)\n",
    "            if (len(list_of_phrases) > 0):\n",
    "                myPhrases.extend(list_of_phrases)\n",
    "    return myPhrases\n",
    "\n",
    "lst = ExtractPhrases(tree, 'NP')\n",
    "# dates = ExtractPhrases(tree, 'CD')\n",
    "for phrase in lst:\n",
    "    print(phrase)"
   ]
  },
  {
   "cell_type": "code",
   "execution_count": 17,
   "metadata": {},
   "outputs": [
    {
     "name": "stdout",
     "output_type": "stream",
     "text": [
      "1\n"
     ]
    }
   ],
   "source": [
    "noun_phrase = []\n",
    "for l in lst:\n",
    "    temp = []\n",
    "    for i in range(len(i)):\n",
    "        "
   ]
  },
  {
   "cell_type": "code",
   "execution_count": null,
   "metadata": {},
   "outputs": [],
   "source": []
  }
 ],
 "metadata": {
  "kernelspec": {
   "display_name": "Python 3",
   "language": "python",
   "name": "python3"
  },
  "language_info": {
   "codemirror_mode": {
    "name": "ipython",
    "version": 3
   },
   "file_extension": ".py",
   "mimetype": "text/x-python",
   "name": "python",
   "nbconvert_exporter": "python",
   "pygments_lexer": "ipython3",
   "version": "3.6.7"
  }
 },
 "nbformat": 4,
 "nbformat_minor": 2
}
