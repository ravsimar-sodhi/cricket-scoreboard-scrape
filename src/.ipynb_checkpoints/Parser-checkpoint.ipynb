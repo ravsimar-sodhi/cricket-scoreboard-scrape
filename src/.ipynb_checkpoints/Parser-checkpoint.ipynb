{
 "cells": [
  {
   "cell_type": "code",
   "execution_count": 222,
   "metadata": {},
   "outputs": [],
   "source": [
    "import nltk\n",
    "from nltk.tokenize import word_tokenize\n",
    "from nltk.tag import pos_tag\n",
    "import pandas as pd"
   ]
  },
  {
   "cell_type": "code",
   "execution_count": 223,
   "metadata": {},
   "outputs": [],
   "source": [
    "# parser = CoreNLPParser(url='http://localhost:8888', tagtype='pos')"
   ]
  },
  {
   "cell_type": "code",
   "execution_count": 244,
   "metadata": {},
   "outputs": [],
   "source": [
    "sent = \"Where was the wickets between Kings XI and RCB played on R Ashwin at Bengaluru?\"\n",
    "tok_sent = nltk.word_tokenize(sent)"
   ]
  },
  {
   "cell_type": "code",
   "execution_count": 245,
   "metadata": {},
   "outputs": [],
   "source": [
    "def preprocess(sent):\n",
    "    sent = nltk.word_tokenize(sent)\n",
    "    sent = nltk.pos_tag(sent)\n",
    "    return sent"
   ]
  },
  {
   "cell_type": "code",
   "execution_count": 246,
   "metadata": {},
   "outputs": [],
   "source": [
    "tokenized_sent = preprocess(sent)"
   ]
  },
  {
   "cell_type": "code",
   "execution_count": 247,
   "metadata": {},
   "outputs": [
    {
     "name": "stdout",
     "output_type": "stream",
     "text": [
      "[('Where', 'WRB'), ('was', 'VBD'), ('the', 'DT'), ('wickets', 'NNS'), ('between', 'IN'), ('Kings', 'NNP'), ('XI', 'NNP'), ('and', 'CC'), ('RCB', 'NNP'), ('played', 'VBD'), ('on', 'IN'), ('R', 'NNP'), ('Ashwin', 'NNP'), ('at', 'IN'), ('Bengaluru', 'NNP'), ('?', '.')]\n"
     ]
    }
   ],
   "source": [
    "# list(parser.tag(sent.split()))\n",
    "print(tokenized_sent)\n",
    "pattern = \"\"\"NP: {<JJ>*<NN>*<NNS>*<NNP>*<NNPS>*}\n",
    "            Date: {<CD>}\"\"\""
   ]
  },
  {
   "cell_type": "code",
   "execution_count": 248,
   "metadata": {},
   "outputs": [
    {
     "name": "stdout",
     "output_type": "stream",
     "text": [
      "(S\n",
      "  Where/WRB\n",
      "  was/VBD\n",
      "  the/DT\n",
      "  (NP wickets/NNS)\n",
      "  between/IN\n",
      "  (NP Kings/NNP XI/NNP)\n",
      "  and/CC\n",
      "  (NP RCB/NNP)\n",
      "  played/VBD\n",
      "  on/IN\n",
      "  (NP R/NNP Ashwin/NNP)\n",
      "  at/IN\n",
      "  (NP Bengaluru/NNP)\n",
      "  ?/.)\n"
     ]
    }
   ],
   "source": [
    "cp = nltk.RegexpParser(pattern)\n",
    "tree = cp.parse(tokenized_sent)\n",
    "print(tree)"
   ]
  },
  {
   "cell_type": "code",
   "execution_count": 249,
   "metadata": {},
   "outputs": [
    {
     "data": {
      "image/png": "[encoded data removed]",
      "text/plain": [
       "Tree('S', [('Where', 'WRB'), ('was', 'VBD'), ('the', 'DT'), Tree('NP', [('wickets', 'NNS')]), ('between', 'IN'), Tree('NP', [('Kings', 'NNP'), ('XI', 'NNP')]), ('and', 'CC'), Tree('NP', [('RCB', 'NNP')]), ('played', 'VBD'), ('on', 'IN'), Tree('NP', [('R', 'NNP'), ('Ashwin', 'NNP')]), ('at', 'IN'), Tree('NP', [('Bengaluru', 'NNP')]), ('?', '.')])"
      ]
     },
     "execution_count": 249,
     "metadata": {},
     "output_type": "execute_result"
    }
   ],
   "source": [
    "tree"
   ]
  },
  {
   "cell_type": "code",
   "execution_count": 250,
   "metadata": {},
   "outputs": [
    {
     "name": "stdout",
     "output_type": "stream",
     "text": [
      "(NP wickets/NNS)\n",
      "(NP Kings/NNP XI/NNP)\n",
      "(NP RCB/NNP)\n",
      "(NP R/NNP Ashwin/NNP)\n",
      "(NP Bengaluru/NNP)\n",
      "[]\n"
     ]
    }
   ],
   "source": [
    "def ExtractPhrases(tree, phrase):\n",
    "    myPhrases = []\n",
    "    if (tree.label() == phrase):\n",
    "        myPhrases.append( tree.copy(True))\n",
    "    for child in tree:\n",
    "        if (type(child) is nltk.tree.Tree):\n",
    "            list_of_phrases = ExtractPhrases(child, phrase)\n",
    "            if (len(list_of_phrases) > 0):\n",
    "                myPhrases.extend(list_of_phrases)\n",
    "    return myPhrases\n",
    "\n",
    "lst = ExtractPhrases(tree, 'NP')\n",
    "date = ExtractPhrases(tree, 'Date')\n",
    "for phrase in lst:\n",
    "    print(phrase)\n",
    "print(date)"
   ]
  },
  {
   "cell_type": "code",
   "execution_count": 251,
   "metadata": {},
   "outputs": [],
   "source": [
    "# date = date[0][0][0]\n",
    "# print(date)"
   ]
  },
  {
   "cell_type": "code",
   "execution_count": 252,
   "metadata": {},
   "outputs": [
    {
     "name": "stdout",
     "output_type": "stream",
     "text": [
      "['wickets', 'Kings XI', 'RCB', 'R Ashwin', 'Bengaluru']\n"
     ]
    }
   ],
   "source": [
    "noun_phrase = []\n",
    "for l in lst:\n",
    "    temp = \"\"\n",
    "    for i in range(len(l)):\n",
    "        temp += l[i][0]\n",
    "        temp += \" \"\n",
    "    temp = temp.strip()\n",
    "    noun_phrase.append(temp)\n",
    "print(noun_phrase)"
   ]
  },
  {
   "cell_type": "code",
   "execution_count": 253,
   "metadata": {},
   "outputs": [],
   "source": [
    "teams = ['Mum Indians', 'Kings XI', 'KKR', 'Sunrisers', 'Super Kings', 'Royals', 'RCB', 'Daredevils']"
   ]
  },
  {
   "cell_type": "code",
   "execution_count": 254,
   "metadata": {},
   "outputs": [],
   "source": [
    "grounds = ['Mumbai', 'Mohali', 'Kolkata', 'Hyderabad (Deccan)', 'Chennai', 'Jaipur', 'Bengaluru', 'Pune', 'Delhi', 'Indore']"
   ]
  },
  {
   "cell_type": "code",
   "execution_count": 255,
   "metadata": {},
   "outputs": [
    {
     "name": "stdout",
     "output_type": "stream",
     "text": [
      "['KL Rahul', 'CH Gayle', 'Yuvraj Singh', 'KK Nair', 'AR Patel', 'MP Stoinis', 'MA Agarwal', 'R Ashwin', 'BATSMEN', 'SA Yadav', 'E Lewis', 'Ishan Kishan', 'HH Pandya', 'RG Sharma', 'KH Pandya', 'PP Shaw', 'GJ Maxwell', 'SS Iyer', 'RR Pant', 'V Shankar', 'Abhishek Sharma', 'KA Pollard', 'BCJ Cutting', 'M Markande', 'JJ Bumrah', 'Mustafizur Rahman', 'C Munro', 'LE Plunkett', 'DJM Short', 'JC Buttler', 'SV Samson', 'BA Stokes', 'RA Tripathi', 'K Gowtham', 'JC Archer', 'SR Watson', 'AT Rayudu', 'SK Raina', 'MS Dhoni', 'SW Billings', 'DJ Bravo', 'RA Jadeja', 'AM Rahane', 'H Klaasen', 'STR Binny', 'S Gopal', 'JD Unadkat', 'B Laughlin', 'AJ Finch', 'AJ Tye', 'MM Sharma', 'Mujeeb Ur', 'Q de', 'BB McCullum', 'V Kohli', 'AB de', 'SN Khan', 'Mandeep Singh', 'CR Woakes', 'Washington Sundar', 'PJ Sangwan', 'WP Saha', 'S Dhawan', 'KS Williamson', 'MK Pandey', 'Shakib Al', 'DJ Hooda', 'YK Pathan', 'Rashid Khan', 'S Kaul', 'Sandeep Sharma', 'B Stanlake', 'CA Lynn', 'SP Narine', 'RV Uthappa', 'N Rana', 'KD Karthik', 'AD Russell', 'Shubman Gill', 'TK Curran', 'PP Chawla', 'Shivam Mavi', 'G Gambhir', 'JJ Roy', 'SS Iyer', 'R Tewatia', 'CH Morris', 'Mohammed Shami', 'S Nadeem', 'TA Boult', 'PA Patel', 'MM Ali', 'C de', 'TG Southee', 'AD Hales', 'CJ Anderson', 'P Negi', 'UT Yadav', 'Mohammed Siraj', 'AS Rajpoot', 'JPR Scantlebury-Searles', 'H Klaasen', 'SP Goswami', 'CR Brathwaite', 'B Kumar', 'RK Singh', 'R Vinay', 'NV Ojha', 'DT Christian', 'MJ McClenaghan', 'F du', 'Basil Thampi', 'MK Lomror', 'MK Tiwary', 'DA Miller', 'BB Sran', 'A Mishra', 'M Vohra', 'JP Duminy', 'Mohammad Nabi', 'HV Patel', 'IS Sodhi', 'Anureet Singh', 'DS Kulkarni', 'M Ashwin', 'DR Shorey', 'M Vijay', 'KV Sharma', 'MG Johnson', 'DL Chahar', 'AD Nath', 'Harbhajan Singh', 'SN Thakur', 'YS Chahal', 'A Dananjaya', 'Kuldeep Yadav', 'M Prasidh', 'RK Bhui', 'P Chopra', 'KM Jadhav', 'MA Wood', 'Imran Tahir']\n"
     ]
    }
   ],
   "source": [
    "batsmen_r = ['KL Rahul †', 'CH Gayle', 'Yuvraj Singh', 'KK Nair', 'AR Patel', 'MP Stoinis', 'MA Agarwal', 'R Ashwin (c)', 'BATSMEN', 'SA Yadav', 'E Lewis', 'Ishan Kishan †', 'HH Pandya', 'RG Sharma (c)', 'KH Pandya', 'PP Shaw', 'GJ Maxwell', 'SS Iyer (c)', 'RR Pant †', 'V Shankar', 'Abhishek Sharma', 'KA Pollard', 'BCJ Cutting', 'M Markande', 'JJ Bumrah', 'Mustafizur Rahman', 'C Munro', 'LE Plunkett', 'DJM Short', 'JC Buttler †', 'SV Samson', 'BA Stokes', 'RA Tripathi', 'K Gowtham', 'JC Archer', 'SR Watson', 'AT Rayudu', 'SK Raina', 'MS Dhoni (c) †', 'SW Billings', 'DJ Bravo', 'RA Jadeja', 'AM Rahane (c)', 'H Klaasen', 'STR Binny', 'S Gopal', 'JD Unadkat', 'B Laughlin', 'AJ Finch', 'AJ Tye', 'MM Sharma', 'Mujeeb Ur Rahman', 'Q de Kock †', 'BB McCullum', 'V Kohli (c)', 'AB de Villiers', 'SN Khan', 'Mandeep Singh', 'CR Woakes', 'Washington Sundar', 'PJ Sangwan', 'WP Saha †', 'S Dhawan', 'KS Williamson (c)', 'MK Pandey', 'Shakib Al Hasan', 'DJ Hooda', 'YK Pathan', 'Rashid Khan', 'S Kaul', 'Sandeep Sharma', 'B Stanlake', 'CA Lynn', 'SP Narine', 'RV Uthappa', 'N Rana', 'KD Karthik (c) †', 'AD Russell', 'Shubman Gill', 'TK Curran', 'PP Chawla', 'Shivam Mavi', 'G Gambhir (c)', 'JJ Roy', 'SS Iyer', 'R Tewatia', 'CH Morris', 'Mohammed Shami', 'S Nadeem', 'TA Boult', 'PA Patel †', 'MM Ali', 'C de Grandhomme', 'TG Southee', 'AD Hales', 'CJ Anderson', 'P Negi', 'UT Yadav', 'Mohammed Siraj', 'AS Rajpoot', 'JPR Scantlebury-Searles', 'H Klaasen †', 'SP Goswami †', 'CR Brathwaite', 'B Kumar', 'RK Singh', 'R Vinay Kumar', 'NV Ojha', 'DT Christian', 'MJ McClenaghan', 'F du Plessis', 'Basil Thampi', 'MK Lomror', 'MK Tiwary', 'DA Miller', 'BB Sran', 'A Mishra', 'M Vohra', 'JP Duminy', 'Mohammad Nabi', 'HV Patel', 'IS Sodhi', 'Anureet Singh', 'DS Kulkarni', 'M Ashwin', 'DR Shorey', 'M Vijay', 'KV Sharma', 'MG Johnson', 'DL Chahar', 'AD Nath', 'Harbhajan Singh', 'SN Thakur', 'YS Chahal', 'A Dananjaya', 'Kuldeep Yadav', 'M Prasidh Krishna', 'RK Bhui', 'P Chopra', 'KM Jadhav', 'MA Wood', 'Imran Tahir']\n",
    "batsmen = []\n",
    "for x in batsmen_r:\n",
    "    batsmen.append(' '.join(x.split(' ')[:2]))\n",
    "print(batsmen)"
   ]
  },
  {
   "cell_type": "code",
   "execution_count": 256,
   "metadata": {},
   "outputs": [],
   "source": [
    "bowlers = ['R Ashwin', 'MM Sharma', 'Mujeeb Ur Rahman', 'AR Patel', 'AJ Tye', 'MP Stoinis', 'Bowling', 'TA Boult', 'Mohammed Shami', 'A Mishra', 'CH Morris', 'DT Christian', 'R Tewatia', 'N Rana', 'M Prasidh Krishna', 'MG Johnson', 'SP Narine', 'PP Chawla', 'Kuldeep Yadav', 'AD Russell', 'MJ McClenaghan', 'JJ Bumrah', 'HH Pandya', 'KH Pandya', 'M Markande', 'BCJ Cutting', 'Sandeep Sharma', 'B Stanlake', 'Rashid Khan', 'S Kaul', 'Shakib Al Hasan', 'PJ Sangwan', 'Mustafizur Rahman', 'JP Duminy', 'TG Southee', 'UT Yadav', 'Mohammed Siraj', 'YS Chahal', 'Washington Sundar', 'C de Grandhomme', 'Shivam Mavi', 'B Kumar', 'KK Ahmed', 'CR Brathwaite', 'S Nadeem', 'V Shankar', 'TK Curran', 'BB Sran', 'JPR Scantlebury-Searles', 'Basil Thampi', 'MM Ali', 'DS Kulkarni', 'JD Unadkat', 'K Gowtham', 'B Laughlin', 'S Gopal', 'BA Stokes', 'DJM Short', 'DL Chahar', 'L Ngidi', 'Harbhajan Singh', 'SN Thakur', 'DJ Bravo', 'RA Jadeja', 'AS Rajpoot', 'JC Archer', 'Yuvraj Singh', 'SR Watson', 'MA Wood', 'Imran Tahir', 'Anureet Singh', 'Avesh Khan', 'LE Plunkett', 'GJ Maxwell', 'IS Sodhi', 'S Lamichhane', 'CJ Dala', 'HV Patel', 'M Ashwin', 'DJ Hooda', 'KV Sharma', 'MK Tiwary', 'Mohammad Nabi', 'KM Asif', 'MK Lomror', 'YK Pathan', 'CJ Jordan', 'CR Woakes', 'K Khejroliya', 'A Dananjaya', 'DJ Willey', 'CJ Anderson', 'R Vinay Kumar', 'STR Binny', 'P Negi', 'Ankit Sharma']"
   ]
  },
  {
   "cell_type": "code",
   "execution_count": 257,
   "metadata": {},
   "outputs": [],
   "source": [
    "def type1(team1, team2, ground, flag):\n",
    "    df = pd.read_csv('../data/match-data.csv')\n",
    "    x = df\n",
    "    gr_filter = (x['Ground'] == ground)\n",
    "    x = x[gr_filter]\n",
    "    team_filter = ((x['Team 1'] == team1) & (x['Team 2'] == team2)) | ((x['Team 1'] == team2) & (x['Team 2'] == team1))\n",
    "    x = x[team_filter]\n",
    "    res = \"\"\n",
    "    if flag == 1:\n",
    "        for i in x['Winner'].values:\n",
    "            if res != \"\":\n",
    "                res += \", \"\n",
    "            res += i\n",
    "    else:\n",
    "        if team1 == str(x['Winner'].values[0]):\n",
    "            res = team2\n",
    "        else:\n",
    "            res = team1\n",
    "    return res"
   ]
  },
  {
   "cell_type": "code",
   "execution_count": 258,
   "metadata": {},
   "outputs": [],
   "source": [
    "# given date and team names return the ground.\n",
    "def type2(team1, team2, date):\n",
    "    df = pd.read_csv('../data/match-data.csv')\n",
    "    x = df\n",
    "#     print(team1, team2)\n",
    "    date_filter = (df['Match Date'] == date)\n",
    "    x = x[date_filter]\n",
    "#     print(x)\n",
    "    team_filter = ((x['Team 1'] == team1) & (x['Team 2'] == team2)) | ((x['Team 1'] == team2) & (x['Team 2'] == team1))\n",
    "    x = x[team_filter]\n",
    "    res = \"\"\n",
    "    for i in x['Ground'].values:\n",
    "        if res != \"\":\n",
    "            res += ', '\n",
    "        res += i\n",
    "#     res = x\n",
    "    return res"
   ]
  },
  {
   "cell_type": "code",
   "execution_count": 259,
   "metadata": {},
   "outputs": [],
   "source": [
    "def type3(team1, team2, ground, batsman):\n",
    "    df = pd.read_csv('../data/match-data.csv')\n",
    "    x = df\n",
    "    ground_filter = (df['Ground'] == ground)\n",
    "    x = x[ground_filter]\n",
    "    team_filter = ((x['Team 1'] == team1) & (x['Team 2'] == team2)) | ((x['Team 1'] == team2) & (x['Team 2'] == team1))\n",
    "#     print(team_filter)\n",
    "    x = x[team_filter]\n",
    "#     for i in x.keys():\n",
    "#         print(i)\n",
    "    return x.index.values[0]"
   ]
  },
  {
   "cell_type": "code",
   "execution_count": 260,
   "metadata": {},
   "outputs": [],
   "source": [
    "def type4(team1, team2, ground, bowler):\n",
    "    df = pd.read_csv('../data/match-data.csv')\n",
    "    x = df\n",
    "    ground_filter = (df['Ground'] == ground)\n",
    "    x = x[ground_filter]\n",
    "    team_filter = ((x['Team 1'] == team1) & (x['Team 2'] == team2)) | ((x['Team 1'] == team2) & (x['Team 2'] == team1))\n",
    "    x = x[team_filter]\n",
    "    return x.index.values[0]"
   ]
  },
  {
   "cell_type": "code",
   "execution_count": 261,
   "metadata": {},
   "outputs": [
    {
     "name": "stdout",
     "output_type": "stream",
     "text": [
      "5 2\n",
      "7\n",
      "2\n"
     ]
    }
   ],
   "source": [
    "no_of_teams = 0\n",
    "fl = 0\n",
    "team1 = \"\"\n",
    "team2 = \"\"\n",
    "ground = \"\"\n",
    "batsman = \"\"\n",
    "bowler = \"\"\n",
    "for name in noun_phrase:\n",
    "    if name in teams:\n",
    "        if fl == 0:\n",
    "            team1 = name\n",
    "            fl+=1\n",
    "            no_of_teams+=1\n",
    "        else:\n",
    "            team2 = name\n",
    "            fl+=1\n",
    "            no_of_teams+=1\n",
    "    if name in grounds:\n",
    "        ground = name\n",
    "        fl+=1\n",
    "    if name in batsmen:\n",
    "        batsman = name\n",
    "        fl+=1\n",
    "    if name in bowlers:\n",
    "        bowler = name\n",
    "        fl+=1\n",
    "\n",
    "res = \"\"\n",
    "formatted_date = \"\"\n",
    "if date != []:\n",
    "    print(date)\n",
    "    temp = date.split('/')\n",
    "    if (int(temp[1]) == 4) or (int(temp[1]) == \"04\"):\n",
    "        formatted_date += \"Apr \"\n",
    "    else:\n",
    "        formatted_date += \"May \"\n",
    "    formatted_date += str(temp[0])\n",
    "    formatted_date += \", \"\n",
    "    formatted_date += temp[2]\n",
    "\n",
    "if fl == 2 and no_of_teams == 2 and formatted_date != \"\" and \"Where\" in tok_sent:\n",
    "    res = type2(team1, team2, formatted_date)\n",
    "    print(res)\n",
    "\n",
    "\n",
    "if fl >= 4 and no_of_teams == 2 and ground != \"\" and batsman != \"\" and (\"runs\" in tok_sent or \"score\" in tok_sent):\n",
    "    res = type3(team1, team2, ground, batsman)\n",
    "    df = pd.read_csv('../data/scoreboard-match-' + str(res + 1) + '-batting.csv')\n",
    "    x = df\n",
    "    batting_filter = (df['BATSMEN'] == batsman)\n",
    "    x = x[batting_filter]\n",
    "    res = x['R'].values[0]\n",
    "    print(res)\n",
    "\n",
    "print(fl, no_of_teams)\n",
    "if fl >= 4 and no_of_teams == 2 and ground != \"\" and bowler != \"\" and \"wickets\" in tok_sent:\n",
    "    res = type4(team1, team2, ground, bowler)\n",
    "#     print(res)\n",
    "    df = pd.read_csv('../data/scoreboard-match-' + str(res + 1) + '-bowling.csv')\n",
    "    x = df\n",
    "    bowling_filter = (df['Bowling'] == bowler)\n",
    "    x = x[bowling_filter]\n",
    "    res = x['W'].values[0]\n",
    "    print(res)\n",
    "\n",
    "    \n",
    "for x in tok_sent:\n",
    "    if (x == \"winner\") or (x == \"won\"):\n",
    "        res = type1(team1, team2, ground, 1)\n",
    "        break\n",
    "    elif (x == \"lost\") or (x == \"loser\"):\n",
    "        res = type1(team1, team2, ground, 2)\n",
    "        break"
   ]
  },
  {
   "cell_type": "code",
   "execution_count": 221,
   "metadata": {},
   "outputs": [
    {
     "data": {
      "text/plain": [
       "''"
      ]
     },
     "execution_count": 221,
     "metadata": {},
     "output_type": "execute_result"
    }
   ],
   "source": [
    "res"
   ]
  },
  {
   "cell_type": "code",
   "execution_count": null,
   "metadata": {},
   "outputs": [],
   "source": []
  },
  {
   "cell_type": "code",
   "execution_count": null,
   "metadata": {},
   "outputs": [],
   "source": []
  }
 ],
 "metadata": {
  "kernelspec": {
   "display_name": "Python 3",
   "language": "python",
   "name": "python3"
  },
  "language_info": {
   "codemirror_mode": {
    "name": "ipython",
    "version": 3
   },
   "file_extension": ".py",
   "mimetype": "text/x-python",
   "name": "python",
   "nbconvert_exporter": "python",
   "pygments_lexer": "ipython3",
   "version": "3.6.7"
  }
 },
 "nbformat": 4,
 "nbformat_minor": 2
}
