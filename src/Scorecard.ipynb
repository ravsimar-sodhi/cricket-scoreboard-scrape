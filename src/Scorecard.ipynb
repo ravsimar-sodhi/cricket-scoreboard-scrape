{
 "cells": [
  {
   "cell_type": "code",
   "execution_count": 3,
   "metadata": {},
   "outputs": [],
   "source": [
    "import pandas as pd"
   ]
  },
  {
   "cell_type": "code",
   "execution_count": 4,
   "metadata": {},
   "outputs": [],
   "source": [
    "df = pd.read_csv(\"../data/scores.csv\")"
   ]
  },
  {
   "cell_type": "code",
   "execution_count": 5,
   "metadata": {},
   "outputs": [],
   "source": [
    "# Renaming the Unnamed column\n",
    "df.rename(columns={'Unnamed: 1':'FOW'}, inplace=True)"
   ]
  },
  {
   "cell_type": "code",
   "execution_count": 6,
   "metadata": {},
   "outputs": [],
   "source": [
    "# Row indexes where the bowling and batting scorecard for different innings begin\n",
    "bowler_indexes = df.loc[df['BATSMEN'] == 'Bowling'].index.tolist()\n",
    "batsmen_indexes = df.loc[df['BATSMEN'] == 'BATSMEN'].index.tolist()\n",
    "# First batting index as -1 because first innings starts at index 0\n",
    "batsmen_indexes = [-1] + batsmen_indexes"
   ]
  },
  {
   "cell_type": "code",
   "execution_count": 7,
   "metadata": {},
   "outputs": [],
   "source": [
    "# Break score card into innings\n",
    "innings = [] # Row indexes of where the inning starts, where the bowling starts and where inning ends\n",
    "for counter, ini in enumerate(batsmen_indexes):\n",
    "    # Last inning ends at the end of the data frame so df.shape[0]\n",
    "    if counter == len(batsmen_indexes) - 1:\n",
    "        innings.append((batsmen_indexes[counter] + 1, bowler_indexes[counter] + 1, df.shape[0]))\n",
    "    else:\n",
    "        innings.append((batsmen_indexes[counter] + 1, bowler_indexes[counter] + 1, batsmen_indexes[counter + 1]))"
   ]
  },
  {
   "cell_type": "code",
   "execution_count": 8,
   "metadata": {},
   "outputs": [],
   "source": [
    "# Mapping to change the column names for bowling\n",
    "bat_to_bowl = {'BATSMEN':'BOWLER', 'FOW':'O', 'R':'M', 'B':'R', 'M':'W', '4s':'Econ', '6s':'WD', 'SR':'NB'}\n",
    "Batting = []\n",
    "Bowling = []\n",
    "# Make list of separate dataframes for bowling and batting\n",
    "for counter, inning in enumerate(innings):\n",
    "    bat = df[innings[counter][0]:innings[counter][1] - 1]\n",
    "    bowl = df[innings[counter][1]:innings[counter][2]]\n",
    "    column_changed_bowl = bowl.rename(columns = bat_to_bowl)\n",
    "    Batting.append(bat)\n",
    "    Bowling.append(column_changed_bowl)"
   ]
  },
  {
   "cell_type": "code",
   "execution_count": 11,
   "metadata": {},
   "outputs": [
    {
     "data": {
      "text/plain": [
       "[           BATSMEN                   FOW    R    B    M  4s 6s      SR\n",
       " 0          PP Shaw          c & b Bishoo  134  154  238  19  0   87.01\n",
       " 1         KL Rahul         lbw b Gabriel    0    4    6   0  0    0.00\n",
       " 2        CA Pujara    c †Dowrich b Lewis   86  130  194  14  0   66.15\n",
       " 3      V Kohli (c)      c Bishoo b Lewis  139  230  341  10  0   60.43\n",
       " 4        AM Rahane    c †Dowrich b Chase   41   92  127   5  0   44.56\n",
       " 5        RR Pant †       c Paul b Bishoo   92   84  121   8  4  109.52\n",
       " 6        RA Jadeja               not out  100  132  152   5  5   75.75\n",
       " 7         R Ashwin   c †Dowrich b Bishoo    7   15   18   1  0   46.66\n",
       " 8    Kuldeep Yadav          lbw b Bishoo   12   32   33   2  0   37.50\n",
       " 9         UT Yadav  c Lewis b Brathwaite   22   24   22   0  2   91.66\n",
       " 10  Mohammed Shami               not out    2    6   21   0  0   33.33,\n",
       "               BATSMEN                   FOW   R   B    M 4s 6s     SR\n",
       " 19  KC Brathwaite (c)      b Mohammed Shami   2  10   11  0  0  20.00\n",
       " 20         KOA Powell  lbw b Mohammed Shami   1   6   21  0  0  16.66\n",
       " 21            SD Hope              b Ashwin  10  22   33  2  0  45.45\n",
       " 22         SO Hetmyer      run out (Jadeja)  10  28   34  1  0  35.71\n",
       " 23          SW Ambris     c Rahane b Jadeja  12  20   33  2  0  60.00\n",
       " 24           RL Chase              b Ashwin  53  79  123  8  0  67.08\n",
       " 25       SO Dowrich †       b Kuldeep Yadav  10  35   26  1  0  28.57\n",
       " 26           KMA Paul      c Pujara b Yadav  47  49   55  7  2  95.91\n",
       " 27           D Bishoo               not out  17  26   37  3  0  65.38\n",
       " 28           SH Lewis              b Ashwin   0   3    4  0  0   0.00\n",
       " 29         ST Gabriel     st †Pant b Ashwin   1  10   14  0  0  10.00,\n",
       "               BATSMEN                       FOW   R   B    M 4s 6s      SR\n",
       " 37  KC Brathwaite (c)           c Shaw b Ashwin  10  30   31  2  0   33.33\n",
       " 38         KOA Powell    c Shaw b Kuldeep Yadav  83  93  128  8  4   89.24\n",
       " 39            SD Hope       lbw b Kuldeep Yadav  17  34   34  1  1   50.00\n",
       " 40         SO Hetmyer   c Rahul b Kuldeep Yadav  11  11   10  0  1  100.00\n",
       " 41          SW Ambris  st †Pant b Kuldeep Yadav   0   3    3  0  0    0.00\n",
       " 42           RL Chase  c Ashwin b Kuldeep Yadav  20  24   26  3  0   83.33\n",
       " 43       SO Dowrich †                   not out  16  64   64  1  0   25.00\n",
       " 44           KMA Paul          c Yadav b Jadeja  15  15   14  2  1  100.00\n",
       " 45           D Bishoo          c †Pant b Ashwin   9  12   11  2  0   75.00\n",
       " 46           SH Lewis              lbw b Jadeja   4  15   11  1  0   26.66\n",
       " 47         ST Gabriel  c Kuldeep Yadav b Jadeja   4   5    6  1  0   80.00]"
      ]
     },
     "execution_count": 11,
     "metadata": {},
     "output_type": "execute_result"
    }
   ],
   "source": [
    "Batting"
   ]
  },
  {
   "cell_type": "markdown",
   "metadata": {},
   "source": [
    "# Questions"
   ]
  },
  {
   "cell_type": "markdown",
   "metadata": {},
   "source": [
    "What type of questions could be formed?\n",
    "\n",
    "`How many RUNS/much SCORE did PLAYER SCORE/MAKE?`\n",
    "* RUNS - could be score, \n",
    "* PLAYER - Recognize that this belongs to a table, and that row should be selected\n",
    "    * PLAYER will be batsman in this case\n",
    "\n",
    "` How many OVERS/BALLS did PLAYER BOWL/PLAY?`\n",
    "* OVERS/BALLS - Recognize which column is needed from the table\n",
    "* PLAYER - Recognize from all the rows in the table\n",
    "    * Player can be batsman/bowler\n",
    "` How many WICKETS did PLAYER take?`\n",
    "* WICKETS - recognize column\n",
    "* PLAYER - recognize row\n",
    "\n",
    "` How did PLAYER get out?`\n",
    "* PLAYER - Recognize row\n",
    "* take the FOW columns and check conditions (bowled out, caught out, or not out)\n",
    "\n",
    "` What was PLAYER's RUN RATE/STRIKE RATE/ 4s/ 6s/?`\n",
    "* PLAYER - recognize row\n",
    "* Find which column is suitable for query"
   ]
  },
  {
   "cell_type": "code",
   "execution_count": null,
   "metadata": {},
   "outputs": [],
   "source": []
  }
 ],
 "metadata": {
  "kernelspec": {
   "display_name": "Python 3",
   "language": "python",
   "name": "python3"
  },
  "language_info": {
   "codemirror_mode": {
    "name": "ipython",
    "version": 3
   },
   "file_extension": ".py",
   "mimetype": "text/x-python",
   "name": "python",
   "nbconvert_exporter": "python",
   "pygments_lexer": "ipython3",
   "version": "3.6.5"
  }
 },
 "nbformat": 4,
 "nbformat_minor": 2
}
