{
 "cells": [
  {
   "cell_type": "code",
   "execution_count": 2,
   "metadata": {},
   "outputs": [],
   "source": [
    "import pandas as pd"
   ]
  },
  {
   "cell_type": "code",
   "execution_count": 3,
   "metadata": {},
   "outputs": [],
   "source": [
    "df = pd.read_csv(\"../data/scores.csv\")"
   ]
  },
  {
   "cell_type": "code",
   "execution_count": 4,
   "metadata": {},
   "outputs": [],
   "source": [
    "# Renaming the Unnamed column\n",
    "df.rename(columns={'Unnamed: 1':'FOW'}, inplace=True)"
   ]
  },
  {
   "cell_type": "code",
   "execution_count": 45,
   "metadata": {},
   "outputs": [],
   "source": [
    "# Row indexes where the bowling and batting scorecard for different innings begin\n",
    "bowler_indexes = df.loc[df['BATSMEN'] == 'Bowling'].index.tolist()\n",
    "batsmen_indexes = df.loc[df['BATSMEN'] == 'BATSMEN'].index.tolist()\n",
    "# First batting index as -1 because first innings starts at index 0\n",
    "batsmen_indexes = [-1] + batsmen_indexes"
   ]
  },
  {
   "cell_type": "code",
   "execution_count": 6,
   "metadata": {},
   "outputs": [],
   "source": [
    "# Break score card into innings\n",
    "innings = [] # Row indexes of where the inning starts, where the bowling starts and where inning ends\n",
    "for counter, ini in enumerate(batsmen_indexes):\n",
    "    # Last inning ends at the end of the data frame so df.shape[0]\n",
    "    if counter == len(batsmen_indexes) - 1:\n",
    "        innings.append((batsmen_indexes[counter] + 1, bowler_indexes[counter] + 1, df.shape[0]))\n",
    "    else:\n",
    "        innings.append((batsmen_indexes[counter] + 1, bowler_indexes[counter] + 1, batsmen_indexes[counter + 1]))"
   ]
  },
  {
   "cell_type": "code",
   "execution_count": 54,
   "metadata": {},
   "outputs": [],
   "source": [
    "# Mapping to change the column names for bowling\n",
    "bat_to_bowl = {'BATSMEN':'BOWLER', 'FOW':'O', 'R':'M', 'B':'R', 'M':'W', '4s':'Econ', '6s':'WD', 'SR':'NB'}\n",
    "Batting = []\n",
    "Bowling = []\n",
    "# Make list of separate dataframes for bowling and batting\n",
    "for counter, inning in enumerate(innings):\n",
    "    bat = df[innings[counter][0]:innings[counter][1] - 1]\n",
    "    bowl = df[innings[counter][1]:innings[counter][2]]\n",
    "    column_changed_bowl = bowl.rename(columns = bat_to_bowl)\n",
    "    Batting.append(bat)\n",
    "    Bowling.append(column_changed_bowl)"
   ]
  }
 ],
 "metadata": {
  "kernelspec": {
   "display_name": "Python 3",
   "language": "python",
   "name": "python3"
  },
  "language_info": {
   "codemirror_mode": {
    "name": "ipython",
    "version": 3
   },
   "file_extension": ".py",
   "mimetype": "text/x-python",
   "name": "python",
   "nbconvert_exporter": "python",
   "pygments_lexer": "ipython3",
   "version": "3.6.6"
  }
 },
 "nbformat": 4,
 "nbformat_minor": 2
}
