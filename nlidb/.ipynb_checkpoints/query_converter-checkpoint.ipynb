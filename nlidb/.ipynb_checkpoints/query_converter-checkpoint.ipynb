{
 "cells": [
  {
   "cell_type": "code",
   "execution_count": 28,
   "metadata": {},
   "outputs": [],
   "source": [
    "from nltk.corpus import stopwords\n",
    "from nltk.tokenize import RegexpTokenizer\n",
    "\n",
    "\n",
    "tokenizer = RegexpTokenizer(r'\\w+')"
   ]
  },
  {
   "cell_type": "code",
   "execution_count": 29,
   "metadata": {},
   "outputs": [
    {
     "name": "stdout",
     "output_type": "stream",
     "text": [
      "SOME RANDOM INPUT STATEMENT TO CHECK THE WORKING OF THE CODE\n",
      "['some', 'random', 'input', 'statement', 'to', 'check', 'the', 'working', 'of', 'the', 'code']\n"
     ]
    }
   ],
   "source": [
    "input_query = input()\n",
    "input_query = input_query.lower()\n",
    "unfiltered_tokens = tokenizer.tokenize(input_query)\n",
    "print(unfiltered_tokens)"
   ]
  },
  {
   "cell_type": "code",
   "execution_count": 30,
   "metadata": {},
   "outputs": [],
   "source": [
    "en_stopwords = set(stopwords.words(\"english\"))\n",
    "operators = set(('or', 'and', 'against', \"didn't\", 'not', 'out'))\n",
    "stop_words = en_stopwords - operators\n"
   ]
  },
  {
   "cell_type": "code",
   "execution_count": 31,
   "metadata": {},
   "outputs": [
    {
     "name": "stdout",
     "output_type": "stream",
     "text": [
      "['random', 'input', 'statement', 'check', 'working', 'code']\n"
     ]
    }
   ],
   "source": [
    "tokens = [w for w in unfiltered_tokens if not w in stop_words]\n",
    "print(tokens)"
   ]
  },
  {
   "cell_type": "code",
   "execution_count": null,
   "metadata": {},
   "outputs": [],
   "source": []
  }
 ],
 "metadata": {
  "kernelspec": {
   "display_name": "Python 3",
   "language": "python",
   "name": "python3"
  },
  "language_info": {
   "codemirror_mode": {
    "name": "ipython",
    "version": 3
   },
   "file_extension": ".py",
   "mimetype": "text/x-python",
   "name": "python",
   "nbconvert_exporter": "python",
   "pygments_lexer": "ipython3",
   "version": "3.6.6"
  }
 },
 "nbformat": 4,
 "nbformat_minor": 2
}
